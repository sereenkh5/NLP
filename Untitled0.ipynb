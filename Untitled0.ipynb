{
  "nbformat": 4,
  "nbformat_minor": 0,
  "metadata": {
    "colab": {
      "provenance": []
    },
    "kernelspec": {
      "name": "python3",
      "display_name": "Python 3"
    },
    "language_info": {
      "name": "python"
    }
  },
  "cells": [
    {
      "cell_type": "code",
      "execution_count": 1,
      "metadata": {
        "colab": {
          "base_uri": "https://localhost:8080/"
        },
        "id": "ZpqZSj6Zi58h",
        "outputId": "c4f2a3e4-171f-40d5-d6c5-8d6534dda351"
      },
      "outputs": [
        {
          "output_type": "stream",
          "name": "stdout",
          "text": [
            "Requirement already satisfied: textblob in /usr/local/lib/python3.11/dist-packages (0.19.0)\n",
            "Requirement already satisfied: nltk>=3.9 in /usr/local/lib/python3.11/dist-packages (from textblob) (3.9.1)\n",
            "Requirement already satisfied: click in /usr/local/lib/python3.11/dist-packages (from nltk>=3.9->textblob) (8.2.1)\n",
            "Requirement already satisfied: joblib in /usr/local/lib/python3.11/dist-packages (from nltk>=3.9->textblob) (1.5.1)\n",
            "Requirement already satisfied: regex>=2021.8.3 in /usr/local/lib/python3.11/dist-packages (from nltk>=3.9->textblob) (2024.11.6)\n",
            "Requirement already satisfied: tqdm in /usr/local/lib/python3.11/dist-packages (from nltk>=3.9->textblob) (4.67.1)\n",
            "Text: I'm so happy today!\n",
            "Sentiment: 😊 Positive\n",
            "\n",
            "Text: I feel very sad and tired.\n",
            "Sentiment: 😢 Negative\n",
            "\n",
            "Text: This is just okay.\n",
            "Sentiment: 😊 Positive\n",
            "\n",
            "Text: I hate waiting in lines!\n",
            "Sentiment: 😢 Negative\n",
            "\n",
            "Text: Thank you for your help.\n",
            "Sentiment: 😐 Neutral\n",
            "\n"
          ]
        }
      ],
      "source": [
        "!pip install textblob\n",
        "from textblob import TextBlob\n",
        "\n",
        "def analyze_sentiment(text):\n",
        "    analysis = TextBlob(text)\n",
        "    polarity = analysis.sentiment.polarity\n",
        "    if polarity > 0:\n",
        "        return \"😊 Positive\"\n",
        "    elif polarity < 0:\n",
        "        return \"😢 Negative\"\n",
        "    else:\n",
        "        return \"😐 Neutral\"\n",
        "\n",
        "# أمثلة تجريبية\n",
        "texts = [\n",
        "    \"I'm so happy today!\",\n",
        "    \"I feel very sad and tired.\",\n",
        "    \"This is just okay.\",\n",
        "    \"I hate waiting in lines!\",\n",
        "    \"Thank you for your help.\"\n",
        "]\n",
        "\n",
        "for text in texts:\n",
        "    print(f\"Text: {text}\\nSentiment: {analyze_sentiment(text)}\\n\")\n"
      ]
    }
  ]
}